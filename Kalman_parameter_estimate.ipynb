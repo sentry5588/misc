{
 "cells": [
  {
   "cell_type": "markdown",
   "metadata": {},
   "source": [
    "From Dan Simon's \"Optimal State Estimation\", example 13.4: How to do parameter estimate using Kalman filter (EKF). And also Problem 13.23, which is to demonstrate that though the parameter is adjusted correctly, it may prevent the filter from converging to the true value. \n",
    "\n",
    "## Estimate System Parameters\n",
    "\n",
    "Consider following state equation\n",
    "\n",
    "$$\\ddot{x}_1 + 2\\zeta\\omega_n\\dot{x}_1+\\omega_n^2 x_1 = \\omega_n^2 w $$\n",
    "\n",
    "where $\\omega_n$ is the natural frequency and $\\zeta$ is the damping ratio. Input $w$ is zero-mean noise. The state space representation can be written as"
   ]
  },
  {
   "cell_type": "markdown",
   "metadata": {},
   "source": [
    "$$\\begin{aligned}\n",
    "\\dot{x}_1 =& x_2  \\\\\n",
    "\\dot{x}_2 =& -\\omega_n^2 x_1 - 2\\zeta\\omega_n x_2 + \\omega_n^2 w\n",
    "\\end{aligned}\n",
    "$$\n",
    "\n",
    "In matrix form, it is\n",
    "\n",
    "$$\\begin{aligned}\n",
    "\\left[\\begin{aligned} \\dot{x}_1 \\\\ \\dot{x}_2 \\end{aligned}\\right]\n",
    " =& \\left[\\begin{matrix} \n",
    " 0 & 1  \\\\ \n",
    " -\\omega_n^2 & - 2\\zeta\\omega_n \n",
    " \\end{matrix}\\right] \n",
    " \\left[\\begin{aligned} x_1 \\\\ x_2 \\end{aligned}\\right] + \n",
    " \\left[\\begin{matrix} \n",
    " 0   \\\\ \n",
    " \\omega_n^2  \n",
    " \\end{matrix}\\right] w \\\\\n",
    " y = & \\left[\\begin{matrix} \n",
    " 1 & 0  \\\\ \n",
    " 0 & 1 \n",
    " \\end{matrix}\\right] \n",
    " \\left[\\begin{aligned} x_1 \\\\ x_2 \\end{aligned}\\right]\n",
    "\\end{aligned}\n",
    "$$"
   ]
  },
  {
   "cell_type": "markdown",
   "metadata": {},
   "source": [
    "## Assumption\n",
    "\n",
    "Assume $-2\\zeta\\omega_n$ is known, but $\\zeta$ and $\\omega$ are unknown. We want to estimate $-\\omega_n^2$. Assume both $x_1$ and $x_2$ are available. define the known parameter as $b$, and $b=-\\zeta\\omega_n$. Define the parameter to be estimated as $x_3=-\\omega_n^2$. The state space becomes"
   ]
  },
  {
   "cell_type": "markdown",
   "metadata": {},
   "source": [
    "$$\\begin{aligned}\n",
    "\\dot{x}_1 =& x_2  \\\\\n",
    "\\dot{x}_2 =& x_3 x_1 + b x_2  - x_3 w \\\\\n",
    "\\dot{x}_3 =& w_p\n",
    "\\end{aligned}\n",
    "$$\n",
    "Note that above state-space is a nonlinear system due to <span style='color:Blue'>$x_3 x_1$</span>. In order to apply Kalman filter. The system should be linearized and then use EKF. It's important to note that <span style='color:red'>$x_3$ is not measurable</span>. Therefore $y$ only includes $x_1$ and $x_2$. Otherwise, there is no point to *estimate* it. The linearized system is"
   ]
  },
  {
   "cell_type": "markdown",
   "metadata": {},
   "source": [
    "$$\\begin{aligned}\n",
    "\\left[\\begin{aligned} \\dot{x}_1 \\\\ \\dot{x}_2 \\\\ \\dot{x}_3 \\end{aligned}\\right]\n",
    " =& \\left[\\begin{matrix} \n",
    " 0 & 1 & 0 \\\\ \n",
    " \\hat{x}_3 & b & \\hat{x}_1-w \\\\\n",
    " 0 & 0 & 0\n",
    " \\end{matrix}\\right] \n",
    " \\left[\\begin{aligned} x_1 \\\\ x_2 \\\\ x_3 \\end{aligned}\\right] + \n",
    " \\left[\\begin{matrix} \n",
    " 0 & 0  \\\\ \n",
    " -\\hat{x}_3 & 0 \\\\\n",
    " 0 & 1\n",
    " \\end{matrix}\\right] \n",
    " \\left[\\begin{matrix} \n",
    " w   \\\\ \n",
    " w_p\n",
    " \\end{matrix}\\right]  \\\\\n",
    " y =& \\left[\\begin{matrix} \n",
    " 1 & 0 & 0\\\\ \n",
    " 0 & 1 & 0\n",
    " \\end{matrix}\\right] \n",
    " \\left[\\begin{aligned} x_1 \\\\ x_2 \\\\ x_3 \\end{aligned}\\right]\n",
    "\\end{aligned}\n",
    "$$"
   ]
  },
  {
   "cell_type": "code",
   "execution_count": 4,
   "metadata": {},
   "outputs": [
    {
     "name": "stdout",
     "output_type": "stream",
     "text": [
      "Kalman gain is:  1.1594202898550723\n",
      "Estimate (co)variance is:  0.14492753623188404\n"
     ]
    }
   ],
   "source": [
    "import numpy as np\n",
    "import matplotlib.pyplot as plt\n",
    "def Kalman_gain(P_priori, H, R):\n",
    "    K = P_priori * H / (H * P_priori * H + R)\n",
    "    return K\n",
    "\n",
    "def Joseph_P_post(P_priori, H, R, K):\n",
    "    P_posteriori = (1-K*H) * P_priori * (1-K*H) + K * R * K\n",
    "    return P_posteriori\n",
    "\n",
    "def non_Joseph_P_post(P_priori, H, R, K):\n",
    "    P_posteriori = (1-K*H) * P_priori\n",
    "    return P_posteriori\n",
    "\n",
    "P_priori = 2.0\n",
    "H = 0.8\n",
    "R = 0.1\n",
    "K = Kalman_gain(P_priori, H, R)\n",
    "print('Kalman gain is: ', K)\n",
    "print('Estimate (co)variance is: ', Joseph_P_post(P_priori, H, R, K))"
   ]
  }
 ],
 "metadata": {
  "kernelspec": {
   "display_name": "Python 3",
   "language": "python",
   "name": "python3"
  },
  "language_info": {
   "codemirror_mode": {
    "name": "ipython",
    "version": 3
   },
   "file_extension": ".py",
   "mimetype": "text/x-python",
   "name": "python",
   "nbconvert_exporter": "python",
   "pygments_lexer": "ipython3",
   "version": "3.7.1"
  }
 },
 "nbformat": 4,
 "nbformat_minor": 2
}
